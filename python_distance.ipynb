{
  "nbformat": 4,
  "nbformat_minor": 0,
  "metadata": {
    "colab": {
      "provenance": []
    },
    "kernelspec": {
      "name": "python3",
      "display_name": "Python 3"
    },
    "language_info": {
      "name": "python"
    }
  },
  "cells": [
    {
      "cell_type": "code",
      "execution_count": 1,
      "metadata": {
        "colab": {
          "base_uri": "https://localhost:8080/"
        },
        "id": "dQxFfyzkUNep",
        "outputId": "d8635c20-c15a-422f-ffe6-14479118b7b8"
      },
      "outputs": [
        {
          "output_type": "stream",
          "name": "stdout",
          "text": [
            "haversine==2.7.0\n"
          ]
        }
      ],
      "source": [
        "!pip freeze | grep haversine"
      ]
    },
    {
      "cell_type": "code",
      "source": [
        "!pip install haversine -q"
      ],
      "metadata": {
        "id": "4uVHLsUoVImp"
      },
      "execution_count": 2,
      "outputs": []
    },
    {
      "cell_type": "code",
      "source": [
        "from haversine import haversine, Unit\n",
        "from math import radians, cos, sin, asin, sqrt"
      ],
      "metadata": {
        "id": "wNAkNH_HVOL4"
      },
      "execution_count": 3,
      "outputs": []
    },
    {
      "cell_type": "code",
      "source": [
        "lyon = (45.7597, 4.8422) # (lat, lon)\n",
        "paris = (48.8567, 2.3508)"
      ],
      "metadata": {
        "id": "p1123pljVVZn"
      },
      "execution_count": 4,
      "outputs": []
    },
    {
      "cell_type": "code",
      "source": [
        "haversine(lyon, paris)"
      ],
      "metadata": {
        "colab": {
          "base_uri": "https://localhost:8080/"
        },
        "id": "GpoWyDiZVYH2",
        "outputId": "ec2cf457-f09a-47d3-aa33-1b0487bc0641"
      },
      "execution_count": 5,
      "outputs": [
        {
          "output_type": "execute_result",
          "data": {
            "text/plain": [
              "392.2172595594006"
            ]
          },
          "metadata": {},
          "execution_count": 5
        }
      ]
    },
    {
      "cell_type": "code",
      "source": [
        "haversine(lyon, paris, unit=Unit.MILES)"
      ],
      "metadata": {
        "colab": {
          "base_uri": "https://localhost:8080/"
        },
        "id": "roP0kmhtVcpX",
        "outputId": "82dd2fdb-5a2d-4c98-f77a-06f4ac6b1574"
      },
      "execution_count": 6,
      "outputs": [
        {
          "output_type": "execute_result",
          "data": {
            "text/plain": [
              "243.71250609539814"
            ]
          },
          "metadata": {},
          "execution_count": 6
        }
      ]
    },
    {
      "cell_type": "code",
      "source": [
        "def func_haversine(lat1, lon1, lat2, lon2):\n",
        "    \"\"\"\n",
        "    Calculate the great circle distance in kilometers between two points\n",
        "    on the earth (specified in decimal degrees)\n",
        "    \"\"\"\n",
        "    # convert decimal degrees to radians\n",
        "    lon1, lat1, lon2, lat2 = map(radians, [lon1, lat1, lon2, lat2])\n",
        "    # haversine formula\n",
        "    dlon = lon2 - lon1\n",
        "    dlat = lat2 - lat1\n",
        "    a = sin(dlat/2)**2 + cos(lat1) * cos(lat2) * sin(dlon/2)**2\n",
        "    c = 2 * asin(sqrt(a))\n",
        "    # Radius of earth in kilometers. \n",
        "    # Use 3956 for miles. Determines return value units.\n",
        "    r = 6371\n",
        "    return c * r"
      ],
      "metadata": {
        "id": "3jA3HF6-VjZu"
      },
      "execution_count": 7,
      "outputs": []
    },
    {
      "cell_type": "code",
      "source": [
        "print(func_haversine(*lyon,*paris))"
      ],
      "metadata": {
        "colab": {
          "base_uri": "https://localhost:8080/"
        },
        "id": "2RyvMj6XVyCA",
        "outputId": "616b743e-dac5-4c1c-f0d7-31a381163601"
      },
      "execution_count": 8,
      "outputs": [
        {
          "output_type": "stream",
          "name": "stdout",
          "text": [
            "392.21671780659625\n"
          ]
        }
      ]
    }
  ]
}